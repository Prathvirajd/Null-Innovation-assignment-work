{
 "cells": [
  {
   "cell_type": "code",
   "execution_count": 1,
   "id": "2aec39fa",
   "metadata": {
    "id": "2aec39fa"
   },
   "outputs": [],
   "source": [
    "import pandas as pd\n",
    "import numpy as np\n",
    "import matplotlib.pyplot as plt\n",
    "import seaborn as sns\n",
    "from tqdm import tqdm\n",
    "import os\n",
    "import re"
   ]
  },
  {
   "cell_type": "code",
   "execution_count": 2,
   "id": "6e762a1a",
   "metadata": {
    "id": "6e762a1a"
   },
   "outputs": [],
   "source": [
    "df = pd.read_excel('Tweet_NFT.xlsx')"
   ]
  },
  {
   "cell_type": "code",
   "execution_count": 3,
   "id": "51241134",
   "metadata": {
    "colab": {
     "base_uri": "https://localhost:8080/",
     "height": 206
    },
    "id": "51241134",
    "outputId": "819a6496-4019-4838-fe2a-d77aa8a291c1"
   },
   "outputs": [
    {
     "data": {
      "text/html": [
       "<div>\n",
       "<style scoped>\n",
       "    .dataframe tbody tr th:only-of-type {\n",
       "        vertical-align: middle;\n",
       "    }\n",
       "\n",
       "    .dataframe tbody tr th {\n",
       "        vertical-align: top;\n",
       "    }\n",
       "\n",
       "    .dataframe thead th {\n",
       "        text-align: right;\n",
       "    }\n",
       "</style>\n",
       "<table border=\"1\" class=\"dataframe\">\n",
       "  <thead>\n",
       "    <tr style=\"text-align: right;\">\n",
       "      <th></th>\n",
       "      <th>id</th>\n",
       "      <th>tweet_text</th>\n",
       "      <th>tweet_created_at</th>\n",
       "      <th>tweet_intent</th>\n",
       "      <th>Unnamed: 4</th>\n",
       "      <th>Unnamed: 5</th>\n",
       "      <th>Unnamed: 6</th>\n",
       "      <th>Unnamed: 7</th>\n",
       "      <th>Unnamed: 8</th>\n",
       "      <th>Unnamed: 9</th>\n",
       "      <th>Unnamed: 10</th>\n",
       "      <th>Unnamed: 11</th>\n",
       "      <th>Unnamed: 12</th>\n",
       "      <th>Unnamed: 13</th>\n",
       "      <th>Unnamed: 14</th>\n",
       "      <th>Unnamed: 15</th>\n",
       "      <th>Unnamed: 16</th>\n",
       "      <th>Unnamed: 17</th>\n",
       "    </tr>\n",
       "  </thead>\n",
       "  <tbody>\n",
       "    <tr>\n",
       "      <th>0</th>\n",
       "      <td>1212762</td>\n",
       "      <td>@crypto_brody @eCoLoGy1990 @MoonrunnersNFT @It...</td>\n",
       "      <td>2022-08-06T16:56:36.000Z</td>\n",
       "      <td>Community</td>\n",
       "      <td>NaN</td>\n",
       "      <td>NaN</td>\n",
       "      <td>NaN</td>\n",
       "      <td>NaN</td>\n",
       "      <td>NaN</td>\n",
       "      <td>NaN</td>\n",
       "      <td>NaN</td>\n",
       "      <td>NaN</td>\n",
       "      <td>NaN</td>\n",
       "      <td>NaN</td>\n",
       "      <td>NaN</td>\n",
       "      <td>NaN</td>\n",
       "      <td>NaN</td>\n",
       "      <td>NaN</td>\n",
       "    </tr>\n",
       "    <tr>\n",
       "      <th>1</th>\n",
       "      <td>1212763</td>\n",
       "      <td>Need Sick Character artâ_x009d_“#art #artist #...</td>\n",
       "      <td>2022-08-06T16:56:36.000Z</td>\n",
       "      <td>Giveaway</td>\n",
       "      <td>NaN</td>\n",
       "      <td>NaN</td>\n",
       "      <td>NaN</td>\n",
       "      <td>NaN</td>\n",
       "      <td>NaN</td>\n",
       "      <td>NaN</td>\n",
       "      <td>NaN</td>\n",
       "      <td>NaN</td>\n",
       "      <td>NaN</td>\n",
       "      <td>NaN</td>\n",
       "      <td>NaN</td>\n",
       "      <td>NaN</td>\n",
       "      <td>NaN</td>\n",
       "      <td>NaN</td>\n",
       "    </tr>\n",
       "    <tr>\n",
       "      <th>2</th>\n",
       "      <td>1212765</td>\n",
       "      <td>@The_Hulk_NFT @INagotchiNFT @Tesla @killabears...</td>\n",
       "      <td>2022-08-06T16:56:35.000Z</td>\n",
       "      <td>Appreciation</td>\n",
       "      <td>NaN</td>\n",
       "      <td>NaN</td>\n",
       "      <td>NaN</td>\n",
       "      <td>NaN</td>\n",
       "      <td>NaN</td>\n",
       "      <td>NaN</td>\n",
       "      <td>NaN</td>\n",
       "      <td>NaN</td>\n",
       "      <td>NaN</td>\n",
       "      <td>NaN</td>\n",
       "      <td>NaN</td>\n",
       "      <td>NaN</td>\n",
       "      <td>NaN</td>\n",
       "      <td>NaN</td>\n",
       "    </tr>\n",
       "    <tr>\n",
       "      <th>3</th>\n",
       "      <td>1212766</td>\n",
       "      <td>@CryptoBatzNFT @DarekBTW The first project in ...</td>\n",
       "      <td>2022-08-06T16:56:35.000Z</td>\n",
       "      <td>Community</td>\n",
       "      <td>NaN</td>\n",
       "      <td>NaN</td>\n",
       "      <td>NaN</td>\n",
       "      <td>NaN</td>\n",
       "      <td>NaN</td>\n",
       "      <td>NaN</td>\n",
       "      <td>NaN</td>\n",
       "      <td>NaN</td>\n",
       "      <td>NaN</td>\n",
       "      <td>NaN</td>\n",
       "      <td>NaN</td>\n",
       "      <td>NaN</td>\n",
       "      <td>NaN</td>\n",
       "      <td>NaN</td>\n",
       "    </tr>\n",
       "    <tr>\n",
       "      <th>4</th>\n",
       "      <td>1212767</td>\n",
       "      <td>@sashadysonn The first project in crypto with ...</td>\n",
       "      <td>2022-08-06T16:56:34.000Z</td>\n",
       "      <td>Community</td>\n",
       "      <td>NaN</td>\n",
       "      <td>NaN</td>\n",
       "      <td>NaN</td>\n",
       "      <td>NaN</td>\n",
       "      <td>NaN</td>\n",
       "      <td>NaN</td>\n",
       "      <td>NaN</td>\n",
       "      <td>NaN</td>\n",
       "      <td>NaN</td>\n",
       "      <td>NaN</td>\n",
       "      <td>NaN</td>\n",
       "      <td>NaN</td>\n",
       "      <td>NaN</td>\n",
       "      <td>NaN</td>\n",
       "    </tr>\n",
       "  </tbody>\n",
       "</table>\n",
       "</div>"
      ],
      "text/plain": [
       "        id                                         tweet_text  \\\n",
       "0  1212762  @crypto_brody @eCoLoGy1990 @MoonrunnersNFT @It...   \n",
       "1  1212763  Need Sick Character artâ_x009d_“#art #artist #...   \n",
       "2  1212765  @The_Hulk_NFT @INagotchiNFT @Tesla @killabears...   \n",
       "3  1212766  @CryptoBatzNFT @DarekBTW The first project in ...   \n",
       "4  1212767  @sashadysonn The first project in crypto with ...   \n",
       "\n",
       "           tweet_created_at  tweet_intent  Unnamed: 4  Unnamed: 5  Unnamed: 6  \\\n",
       "0  2022-08-06T16:56:36.000Z     Community         NaN         NaN         NaN   \n",
       "1  2022-08-06T16:56:36.000Z      Giveaway         NaN         NaN         NaN   \n",
       "2  2022-08-06T16:56:35.000Z  Appreciation         NaN         NaN         NaN   \n",
       "3  2022-08-06T16:56:35.000Z     Community         NaN         NaN         NaN   \n",
       "4  2022-08-06T16:56:34.000Z     Community         NaN         NaN         NaN   \n",
       "\n",
       "   Unnamed: 7  Unnamed: 8  Unnamed: 9  Unnamed: 10  Unnamed: 11  Unnamed: 12  \\\n",
       "0         NaN         NaN         NaN          NaN          NaN          NaN   \n",
       "1         NaN         NaN         NaN          NaN          NaN          NaN   \n",
       "2         NaN         NaN         NaN          NaN          NaN          NaN   \n",
       "3         NaN         NaN         NaN          NaN          NaN          NaN   \n",
       "4         NaN         NaN         NaN          NaN          NaN          NaN   \n",
       "\n",
       "   Unnamed: 13  Unnamed: 14  Unnamed: 15  Unnamed: 16  Unnamed: 17  \n",
       "0          NaN          NaN          NaN          NaN          NaN  \n",
       "1          NaN          NaN          NaN          NaN          NaN  \n",
       "2          NaN          NaN          NaN          NaN          NaN  \n",
       "3          NaN          NaN          NaN          NaN          NaN  \n",
       "4          NaN          NaN          NaN          NaN          NaN  "
      ]
     },
     "execution_count": 3,
     "metadata": {},
     "output_type": "execute_result"
    }
   ],
   "source": [
    "df.head()"
   ]
  },
  {
   "cell_type": "code",
   "execution_count": 4,
   "id": "8e672926",
   "metadata": {},
   "outputs": [],
   "source": [
    "df.drop(columns =['Unnamed: 4','Unnamed: 5','Unnamed: 6','Unnamed: 7','Unnamed: 8','Unnamed: 9','Unnamed: 10','Unnamed: 11','Unnamed: 12','Unnamed: 13','Unnamed: 14','Unnamed: 15','Unnamed: 16','Unnamed: 17'],inplace=True)"
   ]
  },
  {
   "cell_type": "code",
   "execution_count": 5,
   "id": "b470e120",
   "metadata": {
    "id": "b470e120"
   },
   "outputs": [],
   "source": [
    "df.drop(columns=['id'],inplace=True)"
   ]
  },
  {
   "cell_type": "code",
   "execution_count": 6,
   "id": "hDogAFTe3nRa",
   "metadata": {
    "id": "hDogAFTe3nRa"
   },
   "outputs": [],
   "source": [
    "df.dropna(axis=0,how='any',inplace=True)"
   ]
  },
  {
   "cell_type": "code",
   "execution_count": 7,
   "id": "caf7afb1",
   "metadata": {
    "colab": {
     "base_uri": "https://localhost:8080/",
     "height": 206
    },
    "id": "caf7afb1",
    "outputId": "d20ec711-8f4d-46e2-e348-bea870508164"
   },
   "outputs": [
    {
     "data": {
      "text/html": [
       "<div>\n",
       "<style scoped>\n",
       "    .dataframe tbody tr th:only-of-type {\n",
       "        vertical-align: middle;\n",
       "    }\n",
       "\n",
       "    .dataframe tbody tr th {\n",
       "        vertical-align: top;\n",
       "    }\n",
       "\n",
       "    .dataframe thead th {\n",
       "        text-align: right;\n",
       "    }\n",
       "</style>\n",
       "<table border=\"1\" class=\"dataframe\">\n",
       "  <thead>\n",
       "    <tr style=\"text-align: right;\">\n",
       "      <th></th>\n",
       "      <th>tweet_text</th>\n",
       "      <th>tweet_created_at</th>\n",
       "      <th>tweet_intent</th>\n",
       "    </tr>\n",
       "  </thead>\n",
       "  <tbody>\n",
       "    <tr>\n",
       "      <th>0</th>\n",
       "      <td>@crypto_brody @eCoLoGy1990 @MoonrunnersNFT @It...</td>\n",
       "      <td>2022-08-06T16:56:36.000Z</td>\n",
       "      <td>Community</td>\n",
       "    </tr>\n",
       "    <tr>\n",
       "      <th>1</th>\n",
       "      <td>Need Sick Character artâ_x009d_“#art #artist #...</td>\n",
       "      <td>2022-08-06T16:56:36.000Z</td>\n",
       "      <td>Giveaway</td>\n",
       "    </tr>\n",
       "    <tr>\n",
       "      <th>2</th>\n",
       "      <td>@The_Hulk_NFT @INagotchiNFT @Tesla @killabears...</td>\n",
       "      <td>2022-08-06T16:56:35.000Z</td>\n",
       "      <td>Appreciation</td>\n",
       "    </tr>\n",
       "    <tr>\n",
       "      <th>3</th>\n",
       "      <td>@CryptoBatzNFT @DarekBTW The first project in ...</td>\n",
       "      <td>2022-08-06T16:56:35.000Z</td>\n",
       "      <td>Community</td>\n",
       "    </tr>\n",
       "    <tr>\n",
       "      <th>4</th>\n",
       "      <td>@sashadysonn The first project in crypto with ...</td>\n",
       "      <td>2022-08-06T16:56:34.000Z</td>\n",
       "      <td>Community</td>\n",
       "    </tr>\n",
       "  </tbody>\n",
       "</table>\n",
       "</div>"
      ],
      "text/plain": [
       "                                          tweet_text  \\\n",
       "0  @crypto_brody @eCoLoGy1990 @MoonrunnersNFT @It...   \n",
       "1  Need Sick Character artâ_x009d_“#art #artist #...   \n",
       "2  @The_Hulk_NFT @INagotchiNFT @Tesla @killabears...   \n",
       "3  @CryptoBatzNFT @DarekBTW The first project in ...   \n",
       "4  @sashadysonn The first project in crypto with ...   \n",
       "\n",
       "           tweet_created_at  tweet_intent  \n",
       "0  2022-08-06T16:56:36.000Z     Community  \n",
       "1  2022-08-06T16:56:36.000Z      Giveaway  \n",
       "2  2022-08-06T16:56:35.000Z  Appreciation  \n",
       "3  2022-08-06T16:56:35.000Z     Community  \n",
       "4  2022-08-06T16:56:34.000Z     Community  "
      ]
     },
     "execution_count": 7,
     "metadata": {},
     "output_type": "execute_result"
    }
   ],
   "source": [
    "df.head()"
   ]
  },
  {
   "cell_type": "code",
   "execution_count": 8,
   "id": "fed815c8",
   "metadata": {
    "colab": {
     "base_uri": "https://localhost:8080/"
    },
    "id": "fed815c8",
    "outputId": "6ef2eac0-fe2f-48ff-f5af-fbff80af12ae"
   },
   "outputs": [
    {
     "data": {
      "text/plain": [
       "array(['Community', 'Giveaway', 'Appreciation', 'Presale', 'Whitelist',\n",
       "       'pinksale', 'Done', 'Interested', 'Launching Soon'], dtype=object)"
      ]
     },
     "execution_count": 8,
     "metadata": {},
     "output_type": "execute_result"
    }
   ],
   "source": [
    "df['tweet_intent'].unique()"
   ]
  },
  {
   "cell_type": "code",
   "execution_count": 9,
   "id": "1fa72751",
   "metadata": {
    "colab": {
     "base_uri": "https://localhost:8080/"
    },
    "id": "1fa72751",
    "outputId": "46e42fbc-b9c5-4cab-8c1e-90c11b8595b5"
   },
   "outputs": [
    {
     "data": {
      "text/plain": [
       "0"
      ]
     },
     "execution_count": 9,
     "metadata": {},
     "output_type": "execute_result"
    }
   ],
   "source": [
    "df['tweet_intent'].isnull().sum()"
   ]
  },
  {
   "cell_type": "code",
   "execution_count": 10,
   "id": "e6fe6480",
   "metadata": {
    "colab": {
     "base_uri": "https://localhost:8080/"
    },
    "id": "e6fe6480",
    "outputId": "207be0f4-63b4-4ff2-fbaa-9b55d586b3ad"
   },
   "outputs": [
    {
     "name": "stdout",
     "output_type": "stream",
     "text": [
      "<class 'pandas.core.frame.DataFrame'>\n",
      "Int64Index: 96364 entries, 0 to 96363\n",
      "Data columns (total 3 columns):\n",
      " #   Column            Non-Null Count  Dtype \n",
      "---  ------            --------------  ----- \n",
      " 0   tweet_text        96364 non-null  object\n",
      " 1   tweet_created_at  96364 non-null  object\n",
      " 2   tweet_intent      96364 non-null  object\n",
      "dtypes: object(3)\n",
      "memory usage: 2.9+ MB\n"
     ]
    }
   ],
   "source": [
    "df.info()"
   ]
  },
  {
   "cell_type": "code",
   "execution_count": 11,
   "id": "28da01b2",
   "metadata": {
    "colab": {
     "base_uri": "https://localhost:8080/"
    },
    "id": "28da01b2",
    "outputId": "6e1c7d43-ac9c-478c-aca6-83356d47c3c0"
   },
   "outputs": [
    {
     "data": {
      "text/plain": [
       "(96364, 3)"
      ]
     },
     "execution_count": 11,
     "metadata": {},
     "output_type": "execute_result"
    }
   ],
   "source": [
    "df.shape"
   ]
  },
  {
   "cell_type": "code",
   "execution_count": 12,
   "id": "62b5f1a4",
   "metadata": {
    "colab": {
     "base_uri": "https://localhost:8080/"
    },
    "id": "62b5f1a4",
    "outputId": "4a7f0cc4-980e-4256-cac4-ef7c3828a5c2"
   },
   "outputs": [
    {
     "data": {
      "text/plain": [
       "60"
      ]
     },
     "execution_count": 12,
     "metadata": {},
     "output_type": "execute_result"
    }
   ],
   "source": [
    "df.duplicated().sum()"
   ]
  },
  {
   "cell_type": "code",
   "execution_count": 13,
   "id": "f447e6cd",
   "metadata": {
    "colab": {
     "base_uri": "https://localhost:8080/"
    },
    "id": "f447e6cd",
    "outputId": "72c0dec6-eb52-4109-d885-91fd5358ede0"
   },
   "outputs": [
    {
     "data": {
      "text/plain": [
       "0"
      ]
     },
     "execution_count": 13,
     "metadata": {},
     "output_type": "execute_result"
    }
   ],
   "source": [
    "df = df.drop_duplicates(keep = 'first')\n",
    "df.duplicated().sum()"
   ]
  },
  {
   "cell_type": "code",
   "execution_count": 14,
   "id": "04f6a45c",
   "metadata": {
    "colab": {
     "base_uri": "https://localhost:8080/"
    },
    "id": "04f6a45c",
    "outputId": "5adeac31-65e4-413a-93a4-14e10920130d"
   },
   "outputs": [
    {
     "data": {
      "text/plain": [
       "Community         41461\n",
       "Giveaway          21039\n",
       "Appreciation      16448\n",
       "Whitelist          8320\n",
       "Presale            5107\n",
       "Done               3043\n",
       "pinksale            477\n",
       "Interested          276\n",
       "Launching Soon      133\n",
       "Name: tweet_intent, dtype: int64"
      ]
     },
     "execution_count": 14,
     "metadata": {},
     "output_type": "execute_result"
    }
   ],
   "source": [
    "df['tweet_intent'].value_counts()"
   ]
  },
  {
   "cell_type": "markdown",
   "id": "f7061c3b",
   "metadata": {},
   "source": [
    "### Text preprocessing"
   ]
  },
  {
   "cell_type": "code",
   "execution_count": 15,
   "id": "0c2d5bf8",
   "metadata": {
    "colab": {
     "base_uri": "https://localhost:8080/",
     "height": 177
    },
    "id": "0c2d5bf8",
    "outputId": "0aca738f-fc83-46d7-b409-80792c6eee04"
   },
   "outputs": [
    {
     "name": "stdout",
     "output_type": "stream",
     "text": [
      "@crypto_brody @eCoLoGy1990 @MoonrunnersNFT @ItsukiNFT @thelittlesnft @SpaceRiders_NFT @WDoopsies @WomenandWeapons @WoWPixiesNFT @BokiNFT @quirkiesnft @bitcoin_bowie @Kal_El_Krypto_ @sophiegreen86 ðŸ_x0090_¶ A new cryptocurrency was born by fans of the Chihuahua meme community. It's just simply pets love and keep 1% from each transaction which will be automatically distributed. \n",
      "â€¼ï¸_x008f_CA: 0x2fd6c9B869Dea106730269E13113361b684f843a\n",
      " @Chihuahua_bsc\n",
      "TG: https://t.co/wqSzCivfaM\n"
     ]
    },
    {
     "data": {
      "text/plain": [
       "\"@crypto_brody @eCoLoGy1990 @MoonrunnersNFT @ItsukiNFT @thelittlesnft @SpaceRiders_NFT @WDoopsies @WomenandWeapons @WoWPixiesNFT @BokiNFT @quirkiesnft @bitcoin_bowie @Kal_El_Krypto_ @sophiegreen86 ðŸ_x0090_¶ A new cryptocurrency was born by fans of the Chihuahua meme community. It's just simply pets love and keep 1% from each transaction which will be automatically distributed. \\nâ€¼ï¸_x008f_CA: 0x2fd6c9B869Dea106730269E13113361b684f843a\\n @Chihuahua_bsc\\nTG: \""
      ]
     },
     "execution_count": 15,
     "metadata": {},
     "output_type": "execute_result"
    }
   ],
   "source": [
    "#removal of url\n",
    "\n",
    "new_tweet_text = df['tweet_text'][0]\n",
    "print(new_tweet_text)\n",
    "\n",
    "def remove_https(row):\n",
    "    return re.sub(r'http\\S+', '', row)\n",
    "\n",
    "remove_https(new_tweet_text)"
   ]
  },
  {
   "cell_type": "code",
   "execution_count": 16,
   "id": "4f5a07c7",
   "metadata": {
    "id": "4f5a07c7"
   },
   "outputs": [],
   "source": [
    "df['new_tweet_text'] = df['tweet_text'].apply(remove_https)"
   ]
  },
  {
   "cell_type": "code",
   "execution_count": 17,
   "id": "c2ee3b1a",
   "metadata": {
    "colab": {
     "base_uri": "https://localhost:8080/",
     "height": 142
    },
    "id": "c2ee3b1a",
    "outputId": "d7eaefa1-29a6-4ce1-9e44-ffa820478bdf"
   },
   "outputs": [
    {
     "name": "stdout",
     "output_type": "stream",
     "text": [
      "@crypto_brody @eCoLoGy1990 @MoonrunnersNFT @ItsukiNFT @thelittlesnft @SpaceRiders_NFT @WDoopsies @WomenandWeapons @WoWPixiesNFT @BokiNFT @quirkiesnft @bitcoin_bowie @Kal_El_Krypto_ @sophiegreen86 ðŸ_x0090_¶ A new cryptocurrency was born by fans of the Chihuahua meme community. It's just simply pets love and keep 1% from each transaction which will be automatically distributed. \n",
      "â€¼ï¸_x008f_CA: 0x2fd6c9B869Dea106730269E13113361b684f843a\n",
      " @Chihuahua_bsc\n",
      "TG: \n"
     ]
    },
    {
     "data": {
      "text/plain": [
       "\"              ðŸ_x0090_¶ A new cryptocurrency was born by fans of the Chihuahua meme community. It's just simply pets love and keep 1% from each transaction which will be automatically distributed. \\nâ€¼ï¸_x008f_CA: 0x2fd6c9B869Dea106730269E13113361b684f843a\\n \\nTG: \""
      ]
     },
     "execution_count": 17,
     "metadata": {},
     "output_type": "execute_result"
    }
   ],
   "source": [
    "#removal of username\n",
    "\n",
    "new_tweet_text1 = df['new_tweet_text'][0]\n",
    "print(new_tweet_text1)\n",
    "\n",
    "def remove_username(row):\n",
    "    return re.sub(r'@\\S+', '', row)\n",
    "\n",
    "remove_username(new_tweet_text1)"
   ]
  },
  {
   "cell_type": "code",
   "execution_count": 18,
   "id": "c1e10f99",
   "metadata": {
    "id": "c1e10f99"
   },
   "outputs": [],
   "source": [
    "df['new_tweet_text1'] = df['new_tweet_text'].apply(remove_username)"
   ]
  },
  {
   "cell_type": "code",
   "execution_count": 19,
   "id": "363c0058",
   "metadata": {
    "colab": {
     "base_uri": "https://localhost:8080/",
     "height": 142
    },
    "id": "363c0058",
    "outputId": "e2d3a504-aef6-4d8a-d152-e1fb1f2c6976"
   },
   "outputs": [
    {
     "name": "stdout",
     "output_type": "stream",
     "text": [
      "              ðŸ_x0090_¶ A new cryptocurrency was born by fans of the Chihuahua meme community. It's just simply pets love and keep 1% from each transaction which will be automatically distributed. \n",
      "â€¼ï¸_x008f_CA: 0x2fd6c9B869Dea106730269E13113361b684f843a\n",
      " \n",
      "TG: \n"
     ]
    },
    {
     "data": {
      "text/plain": [
       "\"              ðŸ_x0090_¶ A new cryptocurrency was born by fans of the Chihuahua meme community. It's just simply pets love and keep 1% from each transaction which will be automatically distributed. \\nâ€¼ï¸_x008f_CA: 0x2fd6c9B869Dea106730269E13113361b684f843a\\n \\nTG: \""
      ]
     },
     "execution_count": 19,
     "metadata": {},
     "output_type": "execute_result"
    }
   ],
   "source": [
    "#removal of hashtag\n",
    "\n",
    "new_tweet_text2 = df['new_tweet_text1'][0]\n",
    "print(new_tweet_text2)\n",
    "\n",
    "def remove_hashtag(row):\n",
    "    return re.sub(r'#(\\w+)', '', row)\n",
    "\n",
    "remove_hashtag(new_tweet_text2)"
   ]
  },
  {
   "cell_type": "code",
   "execution_count": 20,
   "id": "399a5131",
   "metadata": {
    "id": "399a5131"
   },
   "outputs": [],
   "source": [
    "df['new_tweet_text2'] = df['new_tweet_text'].apply(remove_hashtag)"
   ]
  },
  {
   "cell_type": "code",
   "execution_count": 21,
   "id": "1d56b309",
   "metadata": {
    "colab": {
     "base_uri": "https://localhost:8080/"
    },
    "id": "1d56b309",
    "outputId": "7a665fb7-9b37-4f8a-c7dd-3fcc802e175d"
   },
   "outputs": [
    {
     "name": "stderr",
     "output_type": "stream",
     "text": [
      "[nltk_data] Downloading package punkt to\n",
      "[nltk_data]     C:\\Users\\DELL\\AppData\\Roaming\\nltk_data...\n",
      "[nltk_data]   Package punkt is already up-to-date!\n",
      "[nltk_data] Downloading package stopwords to\n",
      "[nltk_data]     C:\\Users\\DELL\\AppData\\Roaming\\nltk_data...\n",
      "[nltk_data]   Package stopwords is already up-to-date!\n"
     ]
    },
    {
     "data": {
      "text/plain": [
       "True"
      ]
     },
     "execution_count": 21,
     "metadata": {},
     "output_type": "execute_result"
    }
   ],
   "source": [
    "import nltk\n",
    "nltk.download('punkt')\n",
    "nltk.download('stopwords')"
   ]
  },
  {
   "cell_type": "code",
   "execution_count": 22,
   "id": "f8058354",
   "metadata": {
    "id": "f8058354"
   },
   "outputs": [],
   "source": [
    "from nltk.corpus import stopwords\n",
    "import string"
   ]
  },
  {
   "cell_type": "code",
   "execution_count": 23,
   "id": "4265ceaf",
   "metadata": {
    "id": "4265ceaf"
   },
   "outputs": [],
   "source": [
    "from nltk.stem.porter import PorterStemmer\n",
    "ps = PorterStemmer()\n",
    "def transform_text(new_tweet_text2):\n",
    "    new_tweet_text2 = new_tweet_text2.lower()\n",
    "    new_tweet_text2 = nltk.word_tokenize(new_tweet_text2)\n",
    "    \n",
    "    y = []\n",
    "    for i in new_tweet_text2:\n",
    "        if i.isalnum():\n",
    "            y.append(i)\n",
    "    \n",
    "    new_tweet_text2 = y[:]\n",
    "    y.clear()\n",
    "    \n",
    "    for i in new_tweet_text2:\n",
    "        if i not in stopwords.words('english') and i not in string.punctuation:\n",
    "            y.append(i)\n",
    "            \n",
    "    new_tweet_text2 = y[:]\n",
    "    y.clear()\n",
    "    \n",
    "    for i in new_tweet_text2:\n",
    "        y.append(ps.stem(i))\n",
    "    \n",
    "            \n",
    "    return \" \".join(y)"
   ]
  },
  {
   "cell_type": "code",
   "execution_count": 24,
   "id": "c41a2be4",
   "metadata": {
    "id": "c41a2be4"
   },
   "outputs": [],
   "source": [
    "df['transformed_text'] = df['new_tweet_text2'].apply(transform_text)"
   ]
  },
  {
   "cell_type": "code",
   "execution_count": 25,
   "id": "3503040b",
   "metadata": {
    "id": "3503040b"
   },
   "outputs": [],
   "source": [
    "df['no_of_characters'] = df['tweet_text'].apply(len)"
   ]
  },
  {
   "cell_type": "code",
   "execution_count": 26,
   "id": "dd7acc0f",
   "metadata": {
    "id": "dd7acc0f"
   },
   "outputs": [],
   "source": [
    "df['no_of_words'] = df['tweet_text'].apply(lambda x:len(nltk.word_tokenize(x)))"
   ]
  },
  {
   "cell_type": "code",
   "execution_count": 27,
   "id": "74412bd0",
   "metadata": {
    "id": "74412bd0"
   },
   "outputs": [],
   "source": [
    "df['no_of_sentences'] = df['tweet_text'].apply(lambda x:len(nltk.sent_tokenize(x)))"
   ]
  },
  {
   "cell_type": "code",
   "execution_count": 28,
   "id": "42a23545",
   "metadata": {},
   "outputs": [
    {
     "data": {
      "text/plain": [
       "<seaborn.axisgrid.PairGrid at 0x27d212b8b50>"
      ]
     },
     "execution_count": 28,
     "metadata": {},
     "output_type": "execute_result"
    },
    {
     "data": {
      "image/png": "[encoded data removed]",
      "text/plain": [
       "<Figure size 655.625x540 with 12 Axes>"
      ]
     },
     "metadata": {
      "needs_background": "light"
     },
     "output_type": "display_data"
    }
   ],
   "source": [
    "sns.pairplot(df,hue='tweet_intent')"
   ]
  },
  {
   "cell_type": "code",
   "execution_count": 29,
   "id": "fe61c8da",
   "metadata": {
    "id": "fe61c8da"
   },
   "outputs": [],
   "source": [
    "df.drop(columns=['new_tweet_text','new_tweet_text1','new_tweet_text2'],inplace=True)"
   ]
  },
  {
   "cell_type": "code",
   "execution_count": 30,
   "id": "468bd739",
   "metadata": {
    "colab": {
     "base_uri": "https://localhost:8080/",
     "height": 337
    },
    "id": "468bd739",
    "outputId": "56ede4f5-65ef-4e11-912b-c75e49ec7ffc"
   },
   "outputs": [
    {
     "data": {
      "text/html": [
       "<div>\n",
       "<style scoped>\n",
       "    .dataframe tbody tr th:only-of-type {\n",
       "        vertical-align: middle;\n",
       "    }\n",
       "\n",
       "    .dataframe tbody tr th {\n",
       "        vertical-align: top;\n",
       "    }\n",
       "\n",
       "    .dataframe thead th {\n",
       "        text-align: right;\n",
       "    }\n",
       "</style>\n",
       "<table border=\"1\" class=\"dataframe\">\n",
       "  <thead>\n",
       "    <tr style=\"text-align: right;\">\n",
       "      <th></th>\n",
       "      <th>tweet_text</th>\n",
       "      <th>tweet_created_at</th>\n",
       "      <th>tweet_intent</th>\n",
       "      <th>transformed_text</th>\n",
       "      <th>no_of_characters</th>\n",
       "      <th>no_of_words</th>\n",
       "      <th>no_of_sentences</th>\n",
       "    </tr>\n",
       "  </thead>\n",
       "  <tbody>\n",
       "    <tr>\n",
       "      <th>0</th>\n",
       "      <td>@crypto_brody @eCoLoGy1990 @MoonrunnersNFT @It...</td>\n",
       "      <td>2022-08-06T16:56:36.000Z</td>\n",
       "      <td>Community</td>\n",
       "      <td>ecology1990 moonrunnersnft itsukinft thelittle...</td>\n",
       "      <td>483</td>\n",
       "      <td>71</td>\n",
       "      <td>3</td>\n",
       "    </tr>\n",
       "    <tr>\n",
       "      <th>1</th>\n",
       "      <td>Need Sick Character artâ_x009d_“#art #artist #...</td>\n",
       "      <td>2022-08-06T16:56:36.000Z</td>\n",
       "      <td>Giveaway</td>\n",
       "      <td>need sick charact scrimfind blazedrt smallstre...</td>\n",
       "      <td>300</td>\n",
       "      <td>50</td>\n",
       "      <td>1</td>\n",
       "    </tr>\n",
       "    <tr>\n",
       "      <th>2</th>\n",
       "      <td>@The_Hulk_NFT @INagotchiNFT @Tesla @killabears...</td>\n",
       "      <td>2022-08-06T16:56:35.000Z</td>\n",
       "      <td>Appreciation</td>\n",
       "      <td>inagotchinft tesla killabearsnft elonmusk grea...</td>\n",
       "      <td>95</td>\n",
       "      <td>19</td>\n",
       "      <td>2</td>\n",
       "    </tr>\n",
       "    <tr>\n",
       "      <th>3</th>\n",
       "      <td>@CryptoBatzNFT @DarekBTW The first project in ...</td>\n",
       "      <td>2022-08-06T16:56:35.000Z</td>\n",
       "      <td>Community</td>\n",
       "      <td>cryptobatznft darekbtw first project crypto mo...</td>\n",
       "      <td>284</td>\n",
       "      <td>53</td>\n",
       "      <td>4</td>\n",
       "    </tr>\n",
       "    <tr>\n",
       "      <th>4</th>\n",
       "      <td>@sashadysonn The first project in crypto with ...</td>\n",
       "      <td>2022-08-06T16:56:34.000Z</td>\n",
       "      <td>Community</td>\n",
       "      <td>sashadysonn first project crypto move earn big...</td>\n",
       "      <td>272</td>\n",
       "      <td>51</td>\n",
       "      <td>4</td>\n",
       "    </tr>\n",
       "  </tbody>\n",
       "</table>\n",
       "</div>"
      ],
      "text/plain": [
       "                                          tweet_text  \\\n",
       "0  @crypto_brody @eCoLoGy1990 @MoonrunnersNFT @It...   \n",
       "1  Need Sick Character artâ_x009d_“#art #artist #...   \n",
       "2  @The_Hulk_NFT @INagotchiNFT @Tesla @killabears...   \n",
       "3  @CryptoBatzNFT @DarekBTW The first project in ...   \n",
       "4  @sashadysonn The first project in crypto with ...   \n",
       "\n",
       "           tweet_created_at  tweet_intent  \\\n",
       "0  2022-08-06T16:56:36.000Z     Community   \n",
       "1  2022-08-06T16:56:36.000Z      Giveaway   \n",
       "2  2022-08-06T16:56:35.000Z  Appreciation   \n",
       "3  2022-08-06T16:56:35.000Z     Community   \n",
       "4  2022-08-06T16:56:34.000Z     Community   \n",
       "\n",
       "                                    transformed_text  no_of_characters  \\\n",
       "0  ecology1990 moonrunnersnft itsukinft thelittle...               483   \n",
       "1  need sick charact scrimfind blazedrt smallstre...               300   \n",
       "2  inagotchinft tesla killabearsnft elonmusk grea...                95   \n",
       "3  cryptobatznft darekbtw first project crypto mo...               284   \n",
       "4  sashadysonn first project crypto move earn big...               272   \n",
       "\n",
       "   no_of_words  no_of_sentences  \n",
       "0           71                3  \n",
       "1           50                1  \n",
       "2           19                2  \n",
       "3           53                4  \n",
       "4           51                4  "
      ]
     },
     "execution_count": 30,
     "metadata": {},
     "output_type": "execute_result"
    }
   ],
   "source": [
    "df.head()"
   ]
  },
  {
   "cell_type": "markdown",
   "id": "902110a5",
   "metadata": {},
   "source": [
    "### Model building"
   ]
  },
  {
   "cell_type": "code",
   "execution_count": 31,
   "id": "1d36b084",
   "metadata": {
    "id": "1d36b084"
   },
   "outputs": [],
   "source": [
    "from sklearn.feature_extraction.text import CountVectorizer,TfidfVectorizer\n",
    "cv = CountVectorizer()\n",
    "tfidf = TfidfVectorizer(max_features=3000)"
   ]
  },
  {
   "cell_type": "code",
   "execution_count": 32,
   "id": "8b602254",
   "metadata": {
    "id": "8b602254"
   },
   "outputs": [],
   "source": [
    "X = tfidf.fit_transform(df['transformed_text']).toarray()"
   ]
  },
  {
   "cell_type": "code",
   "execution_count": 33,
   "id": "3a76447a",
   "metadata": {
    "colab": {
     "base_uri": "https://localhost:8080/"
    },
    "id": "3a76447a",
    "outputId": "331d787a-e0b1-4c38-afc4-647880cd5cc6"
   },
   "outputs": [
    {
     "data": {
      "text/plain": [
       "(96304, 3000)"
      ]
     },
     "execution_count": 33,
     "metadata": {},
     "output_type": "execute_result"
    }
   ],
   "source": [
    "X.shape"
   ]
  },
  {
   "cell_type": "code",
   "execution_count": 34,
   "id": "c30630a8",
   "metadata": {
    "id": "c30630a8"
   },
   "outputs": [],
   "source": [
    "y = df['tweet_intent'].values"
   ]
  },
  {
   "cell_type": "code",
   "execution_count": 35,
   "id": "9d211c94",
   "metadata": {
    "id": "9d211c94"
   },
   "outputs": [],
   "source": [
    "from sklearn.model_selection import train_test_split\n",
    "from sklearn.multiclass import OneVsRestClassifier"
   ]
  },
  {
   "cell_type": "code",
   "execution_count": 36,
   "id": "ce4af29d",
   "metadata": {
    "id": "ce4af29d"
   },
   "outputs": [],
   "source": [
    "from sklearn.svm import SVC"
   ]
  },
  {
   "cell_type": "code",
   "execution_count": 37,
   "id": "78daddf2",
   "metadata": {
    "id": "78daddf2"
   },
   "outputs": [],
   "source": [
    "X_train,X_test,y_train,y_test = train_test_split(X,y,test_size=0.3,random_state=2)"
   ]
  },
  {
   "cell_type": "code",
   "execution_count": 38,
   "id": "rJnBlqv1Zg-W",
   "metadata": {
    "id": "rJnBlqv1Zg-W"
   },
   "outputs": [],
   "source": [
    "from sklearn.preprocessing import OneHotEncoder\n",
    "ohe = OneHotEncoder()\n",
    "y_train = y_train.reshape(-1,1)\n",
    "y_test = y_test.reshape(-1,1)\n",
    "ohe.fit(y_train)\n",
    "transformed_train = ohe.transform(y_train).toarray()\n",
    "ohe.fit(y_test)\n",
    "transformed_test = ohe.transform(y_test).toarray()"
   ]
  },
  {
   "cell_type": "code",
   "execution_count": 39,
   "id": "5c962e93",
   "metadata": {},
   "outputs": [
    {
     "data": {
      "text/plain": [
       "<AxesSubplot:>"
      ]
     },
     "execution_count": 39,
     "metadata": {},
     "output_type": "execute_result"
    },
    {
     "data": {
      "image/png": "[encoded data removed]",
      "text/plain": [
       "<Figure size 432x288 with 2 Axes>"
      ]
     },
     "metadata": {
      "needs_background": "light"
     },
     "output_type": "display_data"
    }
   ],
   "source": [
    "sns.heatmap(df.corr(),annot=True)"
   ]
  },
  {
   "cell_type": "markdown",
   "id": "d40e178b",
   "metadata": {},
   "source": [
    "It is a popular thought and after a research I found that bayesian algorithms are the best for text data, So I choose Multinomial naive bayes."
   ]
  },
  {
   "cell_type": "code",
   "execution_count": 40,
   "id": "07297a63",
   "metadata": {},
   "outputs": [],
   "source": [
    "from sklearn.naive_bayes import MultinomialNB\n",
    "from sklearn.metrics import accuracy_score,confusion_matrix,precision_score,recall_score"
   ]
  },
  {
   "cell_type": "code",
   "execution_count": 41,
   "id": "9b73ff76",
   "metadata": {},
   "outputs": [],
   "source": [
    "multinomial_nb = MultinomialNB()"
   ]
  },
  {
   "cell_type": "code",
   "execution_count": 42,
   "id": "ea15d546",
   "metadata": {},
   "outputs": [
    {
     "name": "stderr",
     "output_type": "stream",
     "text": [
      "C:\\Users\\DELL\\anaconda3\\lib\\site-packages\\sklearn\\utils\\validation.py:63: DataConversionWarning: A column-vector y was passed when a 1d array was expected. Please change the shape of y to (n_samples, ), for example using ravel().\n",
      "  return f(*args, **kwargs)\n",
      "C:\\Users\\DELL\\anaconda3\\lib\\site-packages\\sklearn\\metrics\\_classification.py:1295: UserWarning: Note that pos_label (set to 'positive') is ignored when average != 'binary' (got 'micro'). You may use labels=[pos_label] to specify a single positive class.\n",
      "  warnings.warn(\"Note that pos_label (set to %r) is ignored when \"\n"
     ]
    },
    {
     "name": "stdout",
     "output_type": "stream",
     "text": [
      "Precision Score :  0.8334140938668143\n"
     ]
    },
    {
     "name": "stderr",
     "output_type": "stream",
     "text": [
      "C:\\Users\\DELL\\anaconda3\\lib\\site-packages\\sklearn\\metrics\\_classification.py:1295: UserWarning: Note that pos_label (set to 'positive') is ignored when average != 'binary' (got 'micro'). You may use labels=[pos_label] to specify a single positive class.\n",
      "  warnings.warn(\"Note that pos_label (set to %r) is ignored when \"\n"
     ]
    },
    {
     "name": "stdout",
     "output_type": "stream",
     "text": [
      "Recall Score :  0.8334140938668143\n"
     ]
    }
   ],
   "source": [
    "multinomial_nb.fit(X_train,y_train)\n",
    "y_pred = multinomial_nb.predict(X_test)\n",
    "print(\"Precision Score : \",precision_score(y_test, y_pred, \n",
    "                                           pos_label='positive',\n",
    "                                           average='micro'))\n",
    "print(\"Recall Score : \",recall_score(y_test, y_pred, \n",
    "                                           pos_label='positive',average='micro'))\n",
    "          "
   ]
  },
  {
   "cell_type": "code",
   "execution_count": 43,
   "id": "d3615c27",
   "metadata": {},
   "outputs": [
    {
     "name": "stdout",
     "output_type": "stream",
     "text": [
      "0.8334140938668143\n",
      "[[ 4169   361    18   325     0     0     5    16     0]\n",
      " [  807 10521     6   984     0     0     5    71     0]\n",
      " [   66    35   732    68     0     0     1     4     0]\n",
      " [  556   383    16  5318     0     0    11    39     2]\n",
      " [   41    16     0    23     0     0     0     1     0]\n",
      " [    0     4     0     3     0    36     0     0     0]\n",
      " [   21    29     0    66     0     0  1439    26     0]\n",
      " [  157   250     3   357     0     1    23  1727     1]\n",
      " [    0     0     0     1     0     0     0    11   137]]\n"
     ]
    }
   ],
   "source": [
    "print(accuracy_score(y_test,y_pred))\n",
    "print(confusion_matrix(y_test,y_pred))"
   ]
  },
  {
   "cell_type": "markdown",
   "id": "473d0f4c",
   "metadata": {},
   "source": [
    "### Prediction"
   ]
  },
  {
   "cell_type": "code",
   "execution_count": 55,
   "id": "962713c7",
   "metadata": {},
   "outputs": [
    {
     "name": "stdout",
     "output_type": "stream",
     "text": [
      "Giveaway\n"
     ]
    }
   ],
   "source": [
    "print(y_pred[15002])"
   ]
  },
  {
   "cell_type": "code",
   "execution_count": null,
   "id": "6fea28c0",
   "metadata": {},
   "outputs": [],
   "source": []
  }
 ],
 "metadata": {
  "colab": {
   "provenance": []
  },
  "kernelspec": {
   "display_name": "Python 3",
   "language": "python",
   "name": "python3"
  },
  "language_info": {
   "codemirror_mode": {
    "name": "ipython",
    "version": 3
   },
   "file_extension": ".py",
   "mimetype": "text/x-python",
   "name": "python",
   "nbconvert_exporter": "python",
   "pygments_lexer": "ipython3",
   "version": "3.8.8"
  }
 },
 "nbformat": 4,
 "nbformat_minor": 5
}
